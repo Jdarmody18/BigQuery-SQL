{
 "cells": [
  {
   "cell_type": "code",
   "execution_count": 1,
   "metadata": {},
   "outputs": [],
   "source": [
    "import pandas as pd\n",
    "import seaborn as sns\n",
    "import matplotlib.pyplot as plt\n",
    "%matplotlib inline"
   ]
  },
  {
   "cell_type": "code",
   "execution_count": 6,
   "metadata": {},
   "outputs": [
    {
     "data": {
      "text/html": [
       "<style>\n",
       "table {margin-left: 0 !important;}\n",
       "</style>"
      ],
      "text/plain": [
       "<IPython.core.display.HTML object>"
      ]
     },
     "metadata": {},
     "output_type": "display_data"
    }
   ],
   "source": [
    "%%html\n",
    "<style>\n",
    "table {margin-left: 0 !important;}\n",
    "</style>"
   ]
  },
  {
   "cell_type": "markdown",
   "metadata": {},
   "source": [
    "### Executive Summary\n",
    "This analysis utilizes the public BigQuery San Francisco Bikeshare dataset, and seeks to answer two questions:<br>\n",
    "1) What are the 5 most frequent 'commuter' trips<br>\n",
    "2) An adjusted proposal for optimizing revenue based on the dataset<br>\n",
    "\n",
    "In this analysis, we find that there are two customer types: subscribers and customers.  Subscribers and customers behave differently, with subscribers taking much shorter, but much more frequent trips on average, whereas customers take fewer trips, but spend more time riding on average when they do.\n",
    "\n",
    "Because of this, we define commuter trips as those executed by subscribers between the hours of 5AM and 10AM, and being at least 10 minutes or longer (which is approximately the average time for a subscriber trip).  The trips that show up in this query with greatest frequency are our 5 most frequent commuter trips:\n",
    "\n",
    "<table>\n",
    "    <tr>\n",
    "        <td><b>Number</b></td>\n",
    "        <td><b>Start Station</b></td>\n",
    "        <td><b>End Station</b></td>\n",
    "        <td><b>Number Trips</b></td>\n",
    "    </tr>\n",
    "    <tr>\n",
    "        <td>1</td>\n",
    "        <td>San Francisco Caltrain(Townsend at 4th)</td>\n",
    "        <td>Temporary Transbay Terminal (Howard at Beale)</td>\n",
    "        <td>2777</td>\n",
    "    </tr>\n",
    "    <tr>\n",
    "        <td>2</td>\n",
    "        <td>San Francisco Caltrain(Townsend at 4th)</td>\n",
    "        <td>Harry Bridges Plaza(Ferry Building)</td>\n",
    "        <td>2540</td>\n",
    "    </tr>\n",
    "    <tr>\n",
    "        <td>3</td>\n",
    "        <td>San Francisco Caltrain 2 (330 Townsend)</td>\n",
    "        <td>Market at 10th</td>\n",
    "        <td>2445</td>\n",
    "    </tr>\n",
    "    <tr>\n",
    "        <td>4</td>\n",
    "        <td>San Francisco Caltrain(Townsend at 4th)</td>\n",
    "        <td>Steuart at Market</td>\n",
    "        <td>2170</td>\n",
    "    </tr>\n",
    "    <tr>\n",
    "        <td>5</td>\n",
    "        <td>San Francisco Caltrain(Townsend at 4th)</td>\n",
    "        <td>Davis at Jackson</td>\n",
    "        <td>2014</td>\n",
    "    </tr>\n",
    "</table>\n",
    "\n",
    "\n",
    "In addition, we start our revenue analysis by setting up a control group (i.e. every trip charged a flat rate of 5 dollars) and then seek to come up with a modified revenue proposal that charges each customer segment more based on their greatest need.  For customers, this need is time, and the modified revenue scheme manifests itself with a flat rate of 5 dollars for the first hour, and 4 additional dollars after that, increaseing revenue from the control group of customers by approximately 44% based on the dataset as given.  \n",
    "\n",
    "For subscribers, this need is the number of trips, and so we offer a package for unlimited monthly trips at a 5% premium to what the cost of purchasing each trip individually would be.  Some subscribers will choose to purchase each trip individually, but for those who have enough total trips over the course of a month to justify the monthly pass, this will increase revenue over the control group by between 0% and 10% depending on the rate of adoption."
   ]
  },
  {
   "cell_type": "markdown",
   "metadata": {},
   "source": [
    "### Process for identifying most frequent commuter trips\n",
    "A) Query data to isolate only subscribers, trips that are 10 minutes or longer, and take place betwee 5AM and 10AM<br>\n",
    "B) Identify the 5 most frequent starting points<br>\n",
    "C) Within each starting point, identify the most frequent ending points<br>\n",
    "D) The trips that have the largest number of start - end connections are our commuter trips"
   ]
  },
  {
   "cell_type": "code",
   "execution_count": 7,
   "metadata": {},
   "outputs": [
    {
     "name": "stdout",
     "output_type": "stream",
     "text": [
      "\r",
      "Waiting on bqjob_r2d482768a5a4ae5_0000016650f4c333_1 ... (0s) Current status: DONE   "
     ]
    },
    {
     "data": {
      "text/html": [
       "<div>\n",
       "<style scoped>\n",
       "    .dataframe tbody tr th:only-of-type {\n",
       "        vertical-align: middle;\n",
       "    }\n",
       "\n",
       "    .dataframe tbody tr th {\n",
       "        vertical-align: top;\n",
       "    }\n",
       "\n",
       "    .dataframe thead th {\n",
       "        text-align: right;\n",
       "    }\n",
       "</style>\n",
       "<table border=\"1\" class=\"dataframe\">\n",
       "  <thead>\n",
       "    <tr style=\"text-align: right;\">\n",
       "      <th></th>\n",
       "      <th>count</th>\n",
       "      <th>start_station_name</th>\n",
       "    </tr>\n",
       "  </thead>\n",
       "  <tbody>\n",
       "    <tr>\n",
       "      <th>0</th>\n",
       "      <td>25430</td>\n",
       "      <td>San Francisco Caltrain (Townsend at 4th)</td>\n",
       "    </tr>\n",
       "    <tr>\n",
       "      <th>1</th>\n",
       "      <td>16145</td>\n",
       "      <td>San Francisco Caltrain 2 (330 Townsend)</td>\n",
       "    </tr>\n",
       "    <tr>\n",
       "      <th>2</th>\n",
       "      <td>6461</td>\n",
       "      <td>Harry Bridges Plaza (Ferry Building)</td>\n",
       "    </tr>\n",
       "    <tr>\n",
       "      <th>3</th>\n",
       "      <td>6030</td>\n",
       "      <td>Temporary Transbay Terminal (Howard at Beale)</td>\n",
       "    </tr>\n",
       "    <tr>\n",
       "      <th>4</th>\n",
       "      <td>3931</td>\n",
       "      <td>South Van Ness at Market</td>\n",
       "    </tr>\n",
       "    <tr>\n",
       "      <th>5</th>\n",
       "      <td>3801</td>\n",
       "      <td>Grant Avenue at Columbus Avenue</td>\n",
       "    </tr>\n",
       "    <tr>\n",
       "      <th>6</th>\n",
       "      <td>3601</td>\n",
       "      <td>Steuart at Market</td>\n",
       "    </tr>\n",
       "    <tr>\n",
       "      <th>7</th>\n",
       "      <td>3277</td>\n",
       "      <td>Market at 10th</td>\n",
       "    </tr>\n",
       "    <tr>\n",
       "      <th>8</th>\n",
       "      <td>3168</td>\n",
       "      <td>Townsend at 7th</td>\n",
       "    </tr>\n",
       "    <tr>\n",
       "      <th>9</th>\n",
       "      <td>2976</td>\n",
       "      <td>2nd at Townsend</td>\n",
       "    </tr>\n",
       "  </tbody>\n",
       "</table>\n",
       "</div>"
      ],
      "text/plain": [
       "   count                             start_station_name\n",
       "0  25430       San Francisco Caltrain (Townsend at 4th)\n",
       "1  16145        San Francisco Caltrain 2 (330 Townsend)\n",
       "2   6461           Harry Bridges Plaza (Ferry Building)\n",
       "3   6030  Temporary Transbay Terminal (Howard at Beale)\n",
       "4   3931                       South Van Ness at Market\n",
       "5   3801                Grant Avenue at Columbus Avenue\n",
       "6   3601                              Steuart at Market\n",
       "7   3277                                 Market at 10th\n",
       "8   3168                                Townsend at 7th\n",
       "9   2976                                2nd at Townsend"
      ]
     },
     "execution_count": 7,
     "metadata": {},
     "output_type": "execute_result"
    }
   ],
   "source": [
    "# querying data to identify most frequent starting points for commuters\n",
    "\n",
    "! bq query --use_legacy_sql=false --format=csv 'SELECT COUNT(trip_id) AS count, start_station_name FROM `bigquery-public-data.san_francisco.bikeshare_trips` WHERE TIME(start_date) <= TIME(\"2015-09-24 10:00:00 UTC\") AND TIME(start_date) >= TIME(\"2015-09-24 05:00:00 UTC\") AND subscriber_type = \"Subscriber\" AND duration_sec >= 600 GROUP BY start_station_name ORDER BY count DESC' > morning.csv;\n",
    "morning = pd.read_csv('morning.csv')\n",
    "morning.head(10)"
   ]
  },
  {
   "cell_type": "code",
   "execution_count": 20,
   "metadata": {},
   "outputs": [
    {
     "name": "stdout",
     "output_type": "stream",
     "text": [
      "\r",
      "Waiting on bqjob_r3b7335d1c9fa862a_000001664c62fd54_1 ... (0s) Current status: DONE   "
     ]
    },
    {
     "data": {
      "text/html": [
       "<div>\n",
       "<style scoped>\n",
       "    .dataframe tbody tr th:only-of-type {\n",
       "        vertical-align: middle;\n",
       "    }\n",
       "\n",
       "    .dataframe tbody tr th {\n",
       "        vertical-align: top;\n",
       "    }\n",
       "\n",
       "    .dataframe thead th {\n",
       "        text-align: right;\n",
       "    }\n",
       "</style>\n",
       "<table border=\"1\" class=\"dataframe\">\n",
       "  <thead>\n",
       "    <tr style=\"text-align: right;\">\n",
       "      <th></th>\n",
       "      <th>count</th>\n",
       "      <th>end_station_name</th>\n",
       "    </tr>\n",
       "  </thead>\n",
       "  <tbody>\n",
       "    <tr>\n",
       "      <th>0</th>\n",
       "      <td>2777</td>\n",
       "      <td>Temporary Transbay Terminal (Howard at Beale)</td>\n",
       "    </tr>\n",
       "    <tr>\n",
       "      <th>1</th>\n",
       "      <td>2540</td>\n",
       "      <td>Harry Bridges Plaza (Ferry Building)</td>\n",
       "    </tr>\n",
       "    <tr>\n",
       "      <th>2</th>\n",
       "      <td>2170</td>\n",
       "      <td>Steuart at Market</td>\n",
       "    </tr>\n",
       "    <tr>\n",
       "      <th>3</th>\n",
       "      <td>2014</td>\n",
       "      <td>Davis at Jackson</td>\n",
       "    </tr>\n",
       "    <tr>\n",
       "      <th>4</th>\n",
       "      <td>1773</td>\n",
       "      <td>Embarcadero at Folsom</td>\n",
       "    </tr>\n",
       "    <tr>\n",
       "      <th>5</th>\n",
       "      <td>1553</td>\n",
       "      <td>Clay at Battery</td>\n",
       "    </tr>\n",
       "    <tr>\n",
       "      <th>6</th>\n",
       "      <td>1511</td>\n",
       "      <td>Beale at Market</td>\n",
       "    </tr>\n",
       "    <tr>\n",
       "      <th>7</th>\n",
       "      <td>1449</td>\n",
       "      <td>Embarcadero at Vallejo</td>\n",
       "    </tr>\n",
       "    <tr>\n",
       "      <th>8</th>\n",
       "      <td>1395</td>\n",
       "      <td>Market at 10th</td>\n",
       "    </tr>\n",
       "    <tr>\n",
       "      <th>9</th>\n",
       "      <td>1249</td>\n",
       "      <td>Market at Sansome</td>\n",
       "    </tr>\n",
       "  </tbody>\n",
       "</table>\n",
       "</div>"
      ],
      "text/plain": [
       "   count                               end_station_name\n",
       "0   2777  Temporary Transbay Terminal (Howard at Beale)\n",
       "1   2540           Harry Bridges Plaza (Ferry Building)\n",
       "2   2170                              Steuart at Market\n",
       "3   2014                               Davis at Jackson\n",
       "4   1773                          Embarcadero at Folsom\n",
       "5   1553                                Clay at Battery\n",
       "6   1511                                Beale at Market\n",
       "7   1449                         Embarcadero at Vallejo\n",
       "8   1395                                 Market at 10th\n",
       "9   1249                              Market at Sansome"
      ]
     },
     "execution_count": 20,
     "metadata": {},
     "output_type": "execute_result"
    }
   ],
   "source": [
    "# Most frequent end stations for first starting station\n",
    "\n",
    "! bq query --use_legacy_sql=false --format=csv 'SELECT COUNT(start_station_name) AS count, end_station_name FROM `bigquery-public-data.san_francisco.bikeshare_trips` WHERE TIME(start_date) <= TIME(\"2015-09-24 10:00:00 UTC\") AND TIME(start_date) >= TIME(\"2015-09-24 05:00:00 UTC\") AND subscriber_type = \"Subscriber\" AND duration_sec >= 600 AND start_station_name = \"San Francisco Caltrain (Townsend at 4th)\" GROUP BY end_station_name ORDER BY count DESC' > start1.csv;\n",
    "station_1 = pd.read_csv('start1.csv')\n",
    "station_1.head(10)"
   ]
  },
  {
   "cell_type": "code",
   "execution_count": 45,
   "metadata": {},
   "outputs": [
    {
     "data": {
      "image/png": "[encoded data removed]",
      "text/plain": [
       "<Figure size 432x288 with 1 Axes>"
      ]
     },
     "metadata": {},
     "output_type": "display_data"
    }
   ],
   "source": [
    "station_1_head = station_1.head(5)\n",
    "chart_1 = sns.barplot(x=[\"Hwd_Beale\", \"Ferry_Bldg\",\n",
    "    \"Strt_Mkt.\", \"Davis_Jack.\", \"Emb_Fsm.\"], y=\"count\" , data=station_1_head)"
   ]
  },
  {
   "cell_type": "code",
   "execution_count": 21,
   "metadata": {},
   "outputs": [
    {
     "name": "stdout",
     "output_type": "stream",
     "text": [
      "\r",
      "Waiting on bqjob_r83b5eff57ed6d44_000001664c633be0_1 ... (0s) Current status: DONE   "
     ]
    },
    {
     "data": {
      "text/html": [
       "<div>\n",
       "<style scoped>\n",
       "    .dataframe tbody tr th:only-of-type {\n",
       "        vertical-align: middle;\n",
       "    }\n",
       "\n",
       "    .dataframe tbody tr th {\n",
       "        vertical-align: top;\n",
       "    }\n",
       "\n",
       "    .dataframe thead th {\n",
       "        text-align: right;\n",
       "    }\n",
       "</style>\n",
       "<table border=\"1\" class=\"dataframe\">\n",
       "  <thead>\n",
       "    <tr style=\"text-align: right;\">\n",
       "      <th></th>\n",
       "      <th>count</th>\n",
       "      <th>end_station_name</th>\n",
       "    </tr>\n",
       "  </thead>\n",
       "  <tbody>\n",
       "    <tr>\n",
       "      <th>0</th>\n",
       "      <td>2445</td>\n",
       "      <td>Market at 10th</td>\n",
       "    </tr>\n",
       "    <tr>\n",
       "      <th>1</th>\n",
       "      <td>1365</td>\n",
       "      <td>Harry Bridges Plaza (Ferry Building)</td>\n",
       "    </tr>\n",
       "    <tr>\n",
       "      <th>2</th>\n",
       "      <td>1216</td>\n",
       "      <td>Steuart at Market</td>\n",
       "    </tr>\n",
       "    <tr>\n",
       "      <th>3</th>\n",
       "      <td>1181</td>\n",
       "      <td>Embarcadero at Folsom</td>\n",
       "    </tr>\n",
       "    <tr>\n",
       "      <th>4</th>\n",
       "      <td>1174</td>\n",
       "      <td>Temporary Transbay Terminal (Howard at Beale)</td>\n",
       "    </tr>\n",
       "    <tr>\n",
       "      <th>5</th>\n",
       "      <td>1075</td>\n",
       "      <td>Market at Sansome</td>\n",
       "    </tr>\n",
       "    <tr>\n",
       "      <th>6</th>\n",
       "      <td>876</td>\n",
       "      <td>Davis at Jackson</td>\n",
       "    </tr>\n",
       "    <tr>\n",
       "      <th>7</th>\n",
       "      <td>706</td>\n",
       "      <td>Broadway St at Battery St</td>\n",
       "    </tr>\n",
       "    <tr>\n",
       "      <th>8</th>\n",
       "      <td>684</td>\n",
       "      <td>Beale at Market</td>\n",
       "    </tr>\n",
       "    <tr>\n",
       "      <th>9</th>\n",
       "      <td>672</td>\n",
       "      <td>Mechanics Plaza (Market at Battery)</td>\n",
       "    </tr>\n",
       "  </tbody>\n",
       "</table>\n",
       "</div>"
      ],
      "text/plain": [
       "   count                               end_station_name\n",
       "0   2445                                 Market at 10th\n",
       "1   1365           Harry Bridges Plaza (Ferry Building)\n",
       "2   1216                              Steuart at Market\n",
       "3   1181                          Embarcadero at Folsom\n",
       "4   1174  Temporary Transbay Terminal (Howard at Beale)\n",
       "5   1075                              Market at Sansome\n",
       "6    876                               Davis at Jackson\n",
       "7    706                      Broadway St at Battery St\n",
       "8    684                                Beale at Market\n",
       "9    672            Mechanics Plaza (Market at Battery)"
      ]
     },
     "execution_count": 21,
     "metadata": {},
     "output_type": "execute_result"
    }
   ],
   "source": [
    "# Most frequent end stations for second starting station\n",
    "\n",
    "! bq query --use_legacy_sql=false --format=csv 'SELECT COUNT(start_station_name) AS count, end_station_name FROM `bigquery-public-data.san_francisco.bikeshare_trips` WHERE TIME(start_date) <= TIME(\"2015-09-24 10:00:00 UTC\") AND TIME(start_date) >= TIME(\"2015-09-24 05:00:00 UTC\") AND subscriber_type = \"Subscriber\" AND duration_sec >= 600 AND start_station_name = \"San Francisco Caltrain 2 (330 Townsend)\" GROUP BY end_station_name ORDER BY count DESC' > start2.csv;\n",
    "station_2 = pd.read_csv('start2.csv')\n",
    "station_2.head(10)"
   ]
  },
  {
   "cell_type": "code",
   "execution_count": 47,
   "metadata": {},
   "outputs": [
    {
     "data": {
      "image/png": "[encoded data removed]",
      "text/plain": [
       "<Figure size 432x288 with 1 Axes>"
      ]
     },
     "metadata": {},
     "output_type": "display_data"
    }
   ],
   "source": [
    "station_2_head = station_2.head(5)\n",
    "chart_2 = sns.barplot(x=[\"Mkt_10th\", \"Ferry_Bldg\",\n",
    "    \"Strt_Mkt.\", \"Emb_Fsm\", \"Hwd_Beale\"], y=\"count\" , data=station_2_head)"
   ]
  },
  {
   "cell_type": "code",
   "execution_count": 23,
   "metadata": {},
   "outputs": [
    {
     "name": "stdout",
     "output_type": "stream",
     "text": [
      "\r",
      "Waiting on bqjob_r581b6ec5d7752f9b_000001664c63a0d9_1 ... (0s) Current status: DONE   "
     ]
    },
    {
     "data": {
      "text/html": [
       "<div>\n",
       "<style scoped>\n",
       "    .dataframe tbody tr th:only-of-type {\n",
       "        vertical-align: middle;\n",
       "    }\n",
       "\n",
       "    .dataframe tbody tr th {\n",
       "        vertical-align: top;\n",
       "    }\n",
       "\n",
       "    .dataframe thead th {\n",
       "        text-align: right;\n",
       "    }\n",
       "</style>\n",
       "<table border=\"1\" class=\"dataframe\">\n",
       "  <thead>\n",
       "    <tr style=\"text-align: right;\">\n",
       "      <th></th>\n",
       "      <th>count</th>\n",
       "      <th>end_station_name</th>\n",
       "    </tr>\n",
       "  </thead>\n",
       "  <tbody>\n",
       "    <tr>\n",
       "      <th>0</th>\n",
       "      <td>1535</td>\n",
       "      <td>San Francisco Caltrain (Townsend at 4th)</td>\n",
       "    </tr>\n",
       "    <tr>\n",
       "      <th>1</th>\n",
       "      <td>1308</td>\n",
       "      <td>Townsend at 7th</td>\n",
       "    </tr>\n",
       "    <tr>\n",
       "      <th>2</th>\n",
       "      <td>1076</td>\n",
       "      <td>2nd at Townsend</td>\n",
       "    </tr>\n",
       "    <tr>\n",
       "      <th>3</th>\n",
       "      <td>634</td>\n",
       "      <td>San Francisco Caltrain 2 (330 Townsend)</td>\n",
       "    </tr>\n",
       "    <tr>\n",
       "      <th>4</th>\n",
       "      <td>339</td>\n",
       "      <td>5th at Howard</td>\n",
       "    </tr>\n",
       "    <tr>\n",
       "      <th>5</th>\n",
       "      <td>328</td>\n",
       "      <td>Market at 10th</td>\n",
       "    </tr>\n",
       "    <tr>\n",
       "      <th>6</th>\n",
       "      <td>271</td>\n",
       "      <td>2nd at South Park</td>\n",
       "    </tr>\n",
       "    <tr>\n",
       "      <th>7</th>\n",
       "      <td>200</td>\n",
       "      <td>Yerba Buena Center of the Arts (3rd @ Howard)</td>\n",
       "    </tr>\n",
       "    <tr>\n",
       "      <th>8</th>\n",
       "      <td>106</td>\n",
       "      <td>2nd at Folsom</td>\n",
       "    </tr>\n",
       "    <tr>\n",
       "      <th>9</th>\n",
       "      <td>93</td>\n",
       "      <td>Embarcadero at Sansome</td>\n",
       "    </tr>\n",
       "  </tbody>\n",
       "</table>\n",
       "</div>"
      ],
      "text/plain": [
       "   count                               end_station_name\n",
       "0   1535       San Francisco Caltrain (Townsend at 4th)\n",
       "1   1308                                Townsend at 7th\n",
       "2   1076                                2nd at Townsend\n",
       "3    634        San Francisco Caltrain 2 (330 Townsend)\n",
       "4    339                                  5th at Howard\n",
       "5    328                                 Market at 10th\n",
       "6    271                              2nd at South Park\n",
       "7    200  Yerba Buena Center of the Arts (3rd @ Howard)\n",
       "8    106                                  2nd at Folsom\n",
       "9     93                         Embarcadero at Sansome"
      ]
     },
     "execution_count": 23,
     "metadata": {},
     "output_type": "execute_result"
    }
   ],
   "source": [
    "# Most frequent end stations for third starting station\n",
    "\n",
    "! bq query --use_legacy_sql=false --format=csv 'SELECT COUNT(start_station_name) AS count, end_station_name FROM `bigquery-public-data.san_francisco.bikeshare_trips` WHERE TIME(start_date) <= TIME(\"2015-09-24 10:00:00 UTC\") AND TIME(start_date) >= TIME(\"2015-09-24 05:00:00 UTC\") AND subscriber_type = \"Subscriber\" AND duration_sec >= 600 AND start_station_name = \"Harry Bridges Plaza (Ferry Building)\" GROUP BY end_station_name ORDER BY count DESC' > start3.csv;\n",
    "station_3 = pd.read_csv('start3.csv')\n",
    "station_3.head(10)"
   ]
  },
  {
   "cell_type": "code",
   "execution_count": 48,
   "metadata": {},
   "outputs": [
    {
     "data": {
      "image/png": "[encoded data removed]",
      "text/plain": [
       "<Figure size 432x288 with 1 Axes>"
      ]
     },
     "metadata": {},
     "output_type": "display_data"
    }
   ],
   "source": [
    "station_3_head = station_3.head(5)\n",
    "chart_3 = sns.barplot(x=[\"Town_4th\", \"Town_7th\",\n",
    "    \"2nd_Town\", \"330Town\", \"5th_Hwd\"], y=\"count\" , data=station_3_head)"
   ]
  },
  {
   "cell_type": "code",
   "execution_count": 24,
   "metadata": {},
   "outputs": [
    {
     "name": "stdout",
     "output_type": "stream",
     "text": [
      "\r",
      "Waiting on bqjob_r1fefcd62930720a_000001664c63e8eb_1 ... (0s) Current status: DONE   "
     ]
    },
    {
     "data": {
      "text/html": [
       "<div>\n",
       "<style scoped>\n",
       "    .dataframe tbody tr th:only-of-type {\n",
       "        vertical-align: middle;\n",
       "    }\n",
       "\n",
       "    .dataframe tbody tr th {\n",
       "        vertical-align: top;\n",
       "    }\n",
       "\n",
       "    .dataframe thead th {\n",
       "        text-align: right;\n",
       "    }\n",
       "</style>\n",
       "<table border=\"1\" class=\"dataframe\">\n",
       "  <thead>\n",
       "    <tr style=\"text-align: right;\">\n",
       "      <th></th>\n",
       "      <th>count</th>\n",
       "      <th>end_station_name</th>\n",
       "    </tr>\n",
       "  </thead>\n",
       "  <tbody>\n",
       "    <tr>\n",
       "      <th>0</th>\n",
       "      <td>1382</td>\n",
       "      <td>Townsend at 7th</td>\n",
       "    </tr>\n",
       "    <tr>\n",
       "      <th>1</th>\n",
       "      <td>723</td>\n",
       "      <td>South Van Ness at Market</td>\n",
       "    </tr>\n",
       "    <tr>\n",
       "      <th>2</th>\n",
       "      <td>707</td>\n",
       "      <td>Market at 10th</td>\n",
       "    </tr>\n",
       "    <tr>\n",
       "      <th>3</th>\n",
       "      <td>648</td>\n",
       "      <td>Golden Gate at Polk</td>\n",
       "    </tr>\n",
       "    <tr>\n",
       "      <th>4</th>\n",
       "      <td>543</td>\n",
       "      <td>San Francisco Caltrain (Townsend at 4th)</td>\n",
       "    </tr>\n",
       "    <tr>\n",
       "      <th>5</th>\n",
       "      <td>344</td>\n",
       "      <td>Embarcadero at Sansome</td>\n",
       "    </tr>\n",
       "    <tr>\n",
       "      <th>6</th>\n",
       "      <td>285</td>\n",
       "      <td>Civic Center BART (7th at Market)</td>\n",
       "    </tr>\n",
       "    <tr>\n",
       "      <th>7</th>\n",
       "      <td>269</td>\n",
       "      <td>Grant Avenue at Columbus Avenue</td>\n",
       "    </tr>\n",
       "    <tr>\n",
       "      <th>8</th>\n",
       "      <td>192</td>\n",
       "      <td>San Francisco Caltrain 2 (330 Townsend)</td>\n",
       "    </tr>\n",
       "    <tr>\n",
       "      <th>9</th>\n",
       "      <td>157</td>\n",
       "      <td>Powell Street BART</td>\n",
       "    </tr>\n",
       "  </tbody>\n",
       "</table>\n",
       "</div>"
      ],
      "text/plain": [
       "   count                          end_station_name\n",
       "0   1382                           Townsend at 7th\n",
       "1    723                  South Van Ness at Market\n",
       "2    707                            Market at 10th\n",
       "3    648                       Golden Gate at Polk\n",
       "4    543  San Francisco Caltrain (Townsend at 4th)\n",
       "5    344                    Embarcadero at Sansome\n",
       "6    285         Civic Center BART (7th at Market)\n",
       "7    269           Grant Avenue at Columbus Avenue\n",
       "8    192   San Francisco Caltrain 2 (330 Townsend)\n",
       "9    157                        Powell Street BART"
      ]
     },
     "execution_count": 24,
     "metadata": {},
     "output_type": "execute_result"
    }
   ],
   "source": [
    "# Most frequent end stations for fourth starting station\n",
    "\n",
    "! bq query --use_legacy_sql=false --format=csv 'SELECT COUNT(start_station_name) AS count, end_station_name FROM `bigquery-public-data.san_francisco.bikeshare_trips` WHERE TIME(start_date) <= TIME(\"2015-09-24 10:00:00 UTC\") AND TIME(start_date) >= TIME(\"2015-09-24 05:00:00 UTC\") AND subscriber_type = \"Subscriber\" AND duration_sec >= 600 AND start_station_name = \"Temporary Transbay Terminal (Howard at Beale)\" GROUP BY end_station_name ORDER BY count DESC' > start4.csv;\n",
    "station_4 = pd.read_csv('start4.csv')\n",
    "station_4.head(10)"
   ]
  },
  {
   "cell_type": "code",
   "execution_count": 50,
   "metadata": {},
   "outputs": [
    {
     "data": {
      "image/png": "[encoded data removed]",
      "text/plain": [
       "<Figure size 432x288 with 1 Axes>"
      ]
     },
     "metadata": {},
     "output_type": "display_data"
    }
   ],
   "source": [
    "station_4_head = station_4.head(5)\n",
    "chart_4 = sns.barplot(x=[\"Town_7th\", \"SVanNess_Mkt\",\n",
    "    \"Mkt_10th\", \"GGate_Plk\", \"Town_4th\"], y=\"count\" , data=station_4_head)"
   ]
  },
  {
   "cell_type": "code",
   "execution_count": 26,
   "metadata": {},
   "outputs": [
    {
     "name": "stdout",
     "output_type": "stream",
     "text": [
      "\r",
      "Waiting on bqjob_r40518a00b098e03d_000001664c645953_1 ... (0s) Current status: DONE   "
     ]
    },
    {
     "data": {
      "text/html": [
       "<div>\n",
       "<style scoped>\n",
       "    .dataframe tbody tr th:only-of-type {\n",
       "        vertical-align: middle;\n",
       "    }\n",
       "\n",
       "    .dataframe tbody tr th {\n",
       "        vertical-align: top;\n",
       "    }\n",
       "\n",
       "    .dataframe thead th {\n",
       "        text-align: right;\n",
       "    }\n",
       "</style>\n",
       "<table border=\"1\" class=\"dataframe\">\n",
       "  <thead>\n",
       "    <tr style=\"text-align: right;\">\n",
       "      <th></th>\n",
       "      <th>count</th>\n",
       "      <th>end_station_name</th>\n",
       "    </tr>\n",
       "  </thead>\n",
       "  <tbody>\n",
       "    <tr>\n",
       "      <th>0</th>\n",
       "      <td>493</td>\n",
       "      <td>Market at Sansome</td>\n",
       "    </tr>\n",
       "    <tr>\n",
       "      <th>1</th>\n",
       "      <td>332</td>\n",
       "      <td>Embarcadero at Sansome</td>\n",
       "    </tr>\n",
       "    <tr>\n",
       "      <th>2</th>\n",
       "      <td>306</td>\n",
       "      <td>San Francisco Caltrain (Townsend at 4th)</td>\n",
       "    </tr>\n",
       "    <tr>\n",
       "      <th>3</th>\n",
       "      <td>265</td>\n",
       "      <td>Mechanics Plaza (Market at Battery)</td>\n",
       "    </tr>\n",
       "    <tr>\n",
       "      <th>4</th>\n",
       "      <td>206</td>\n",
       "      <td>Spear at Folsom</td>\n",
       "    </tr>\n",
       "    <tr>\n",
       "      <th>5</th>\n",
       "      <td>197</td>\n",
       "      <td>Beale at Market</td>\n",
       "    </tr>\n",
       "    <tr>\n",
       "      <th>6</th>\n",
       "      <td>196</td>\n",
       "      <td>2nd at South Park</td>\n",
       "    </tr>\n",
       "    <tr>\n",
       "      <th>7</th>\n",
       "      <td>193</td>\n",
       "      <td>Post at Kearny</td>\n",
       "    </tr>\n",
       "    <tr>\n",
       "      <th>8</th>\n",
       "      <td>165</td>\n",
       "      <td>Howard at 2nd</td>\n",
       "    </tr>\n",
       "    <tr>\n",
       "      <th>9</th>\n",
       "      <td>154</td>\n",
       "      <td>Temporary Transbay Terminal (Howard at Beale)</td>\n",
       "    </tr>\n",
       "  </tbody>\n",
       "</table>\n",
       "</div>"
      ],
      "text/plain": [
       "   count                               end_station_name\n",
       "0    493                              Market at Sansome\n",
       "1    332                         Embarcadero at Sansome\n",
       "2    306       San Francisco Caltrain (Townsend at 4th)\n",
       "3    265            Mechanics Plaza (Market at Battery)\n",
       "4    206                                Spear at Folsom\n",
       "5    197                                Beale at Market\n",
       "6    196                              2nd at South Park\n",
       "7    193                                 Post at Kearny\n",
       "8    165                                  Howard at 2nd\n",
       "9    154  Temporary Transbay Terminal (Howard at Beale)"
      ]
     },
     "execution_count": 26,
     "metadata": {},
     "output_type": "execute_result"
    }
   ],
   "source": [
    "# Most frequent end stations for fifth starting station\n",
    "\n",
    "! bq query --use_legacy_sql=false --format=csv 'SELECT COUNT(start_station_name) AS count, end_station_name FROM `bigquery-public-data.san_francisco.bikeshare_trips` WHERE TIME(start_date) <= TIME(\"2015-09-24 10:00:00 UTC\") AND TIME(start_date) >= TIME(\"2015-09-24 05:00:00 UTC\") AND subscriber_type = \"Subscriber\" AND duration_sec >= 600 AND start_station_name = \"South Van Ness at Market\" GROUP BY end_station_name ORDER BY count DESC' > start5.csv;\n",
    "station_5 = pd.read_csv('start5.csv')\n",
    "station_5.head(10)"
   ]
  },
  {
   "cell_type": "code",
   "execution_count": 51,
   "metadata": {},
   "outputs": [
    {
     "data": {
      "image/png": "[encoded data removed]",
      "text/plain": [
       "<Figure size 432x288 with 1 Axes>"
      ]
     },
     "metadata": {},
     "output_type": "display_data"
    }
   ],
   "source": [
    "station_5_head = station_5.head(5)\n",
    "chart_5 = sns.barplot(x=[\"Mkt_Snsm\", \"Emb_Snsm\",\n",
    "    \"Town_4th\", \"Mkt_Btry\", \"Spear_Fsm\"], y=\"count\" , data=station_5_head)"
   ]
  },
  {
   "cell_type": "code",
   "execution_count": 1,
   "metadata": {},
   "outputs": [
    {
     "data": {
      "text/html": [
       "<style>\n",
       "table {margin-left: 0 !important;}\n",
       "</style>"
      ],
      "text/plain": [
       "<IPython.core.display.HTML object>"
      ]
     },
     "metadata": {},
     "output_type": "display_data"
    }
   ],
   "source": [
    "%%html\n",
    "<style>\n",
    "table {margin-left: 0 !important;}\n",
    "</style>"
   ]
  },
  {
   "cell_type": "markdown",
   "metadata": {},
   "source": [
    "### Conclusion: Most Frequent Commuter Trips\n",
    "<table>\n",
    "    <tr>\n",
    "        <td><b>Number</b></td>\n",
    "        <td><b>Start Station</b></td>\n",
    "        <td><b>End Station</b></td>\n",
    "        <td><b>Number Trips</b></td>\n",
    "    </tr>\n",
    "    <tr>\n",
    "        <td>1</td>\n",
    "        <td>San Francisco Caltrain(Townsend at 4th)</td>\n",
    "        <td>Temporary Transbay Terminal (Howard at Beale)</td>\n",
    "        <td>2777</td>\n",
    "    </tr>\n",
    "    <tr>\n",
    "        <td>2</td>\n",
    "        <td>San Francisco Caltrain(Townsend at 4th)</td>\n",
    "        <td>Harry Bridges Plaza(Ferry Building)</td>\n",
    "        <td>2540</td>\n",
    "    </tr>\n",
    "    <tr>\n",
    "        <td>3</td>\n",
    "        <td>San Francisco Caltrain 2 (330 Townsend)</td>\n",
    "        <td>Market at 10th</td>\n",
    "        <td>2445</td>\n",
    "    </tr>\n",
    "    <tr>\n",
    "        <td>4</td>\n",
    "        <td>San Francisco Caltrain(Townsend at 4th)</td>\n",
    "        <td>Steuart at Market</td>\n",
    "        <td>2170</td>\n",
    "    </tr>\n",
    "    <tr>\n",
    "        <td>5</td>\n",
    "        <td>San Francisco Caltrain(Townsend at 4th)</td>\n",
    "        <td>Davis at Jackson</td>\n",
    "        <td>2014</td>\n",
    "    </tr>\n",
    "</table>\n"
   ]
  },
  {
   "cell_type": "markdown",
   "metadata": {},
   "source": [
    "### Process for finding Optimal Pricing\n",
    "We begin by estimating total revenue with a control pricing schema (flat rate of $5 for all trips).  The goal of estimating this control is to understand how much revenue we would reasonably expect to generate in the absence of an optimized pricing schema, and then identify dimensions along which pricing could be optimized.\n",
    "\n",
    "In terms of pricing, you can adjust how you charge along three different dimensions:\n",
    "\n",
    "A) Time - charge for the amount of time spent on the bike<br>\n",
    "B) Trips - charge for the number of trips taken<br>\n",
    "C) Binary Licence - charge for the privilege of using the service versus not<br>\n",
    "\n",
    "In order to maximize revenue, it is logical to create a pricing scheme that charges customers the most for the services they use most.  (i.e. if you spend lots of time on the bike, charge per unit of time, if you take many short trips, charge per trip rather than per unit of time).<br> \n",
    "\n",
    "The following EDA will seek to delineate different types of buying behavior between customers and subscribers along the dimensions of time/trips/usage to figure out how to charge each to maximize revenue."
   ]
  },
  {
   "cell_type": "code",
   "execution_count": 49,
   "metadata": {},
   "outputs": [
    {
     "name": "stdout",
     "output_type": "stream",
     "text": [
      "\r",
      "Waiting on bqjob_r713d3238e0f7d6eb_0000016650100af6_1 ... (0s) Current status: DONE   "
     ]
    },
    {
     "data": {
      "text/html": [
       "<div>\n",
       "<style scoped>\n",
       "    .dataframe tbody tr th:only-of-type {\n",
       "        vertical-align: middle;\n",
       "    }\n",
       "\n",
       "    .dataframe tbody tr th {\n",
       "        vertical-align: top;\n",
       "    }\n",
       "\n",
       "    .dataframe thead th {\n",
       "        text-align: right;\n",
       "    }\n",
       "</style>\n",
       "<table border=\"1\" class=\"dataframe\">\n",
       "  <thead>\n",
       "    <tr style=\"text-align: right;\">\n",
       "      <th></th>\n",
       "      <th>control_revenue_in_USD</th>\n",
       "    </tr>\n",
       "  </thead>\n",
       "  <tbody>\n",
       "    <tr>\n",
       "      <th>0</th>\n",
       "      <td>4918240</td>\n",
       "    </tr>\n",
       "  </tbody>\n",
       "</table>\n",
       "</div>"
      ],
      "text/plain": [
       "   control_revenue_in_USD\n",
       "0                 4918240"
      ]
     },
     "execution_count": 49,
     "metadata": {},
     "output_type": "execute_result"
    }
   ],
   "source": [
    "# control revenue calculation - our scheme should improve on this control\n",
    "! bq query --use_legacy_sql=false --format=csv 'SELECT (COUNT(trip_id)*5) as control_revenue_in_USD FROM `bigquery-public-data.san_francisco.bikeshare_trips`' > control_revenue.csv;\n",
    "control_revenue = pd.read_csv(\"control_revenue.csv\")\n",
    "control_revenue"
   ]
  },
  {
   "cell_type": "code",
   "execution_count": 13,
   "metadata": {},
   "outputs": [
    {
     "name": "stdout",
     "output_type": "stream",
     "text": [
      "Waiting on bqjob_r190b36acdeccb5bf_000001664f2c120a_1 ... (0s) Current status: DONE   "
     ]
    },
    {
     "data": {
      "text/html": [
       "<div>\n",
       "<style scoped>\n",
       "    .dataframe tbody tr th:only-of-type {\n",
       "        vertical-align: middle;\n",
       "    }\n",
       "\n",
       "    .dataframe tbody tr th {\n",
       "        vertical-align: top;\n",
       "    }\n",
       "\n",
       "    .dataframe thead th {\n",
       "        text-align: right;\n",
       "    }\n",
       "</style>\n",
       "<table border=\"1\" class=\"dataframe\">\n",
       "  <thead>\n",
       "    <tr style=\"text-align: right;\">\n",
       "      <th></th>\n",
       "      <th>avg_subscriber_ride_time</th>\n",
       "      <th>min_subscriber_ride_time</th>\n",
       "      <th>max_subscriber_ride_time</th>\n",
       "    </tr>\n",
       "  </thead>\n",
       "  <tbody>\n",
       "    <tr>\n",
       "      <th>0</th>\n",
       "      <td>582.76424</td>\n",
       "      <td>60</td>\n",
       "      <td>1852590</td>\n",
       "    </tr>\n",
       "  </tbody>\n",
       "</table>\n",
       "</div>"
      ],
      "text/plain": [
       "   avg_subscriber_ride_time  min_subscriber_ride_time  \\\n",
       "0                 582.76424                        60   \n",
       "\n",
       "   max_subscriber_ride_time  \n",
       "0                   1852590  "
      ]
     },
     "execution_count": 13,
     "metadata": {},
     "output_type": "execute_result"
    }
   ],
   "source": [
    "# find average duration of ride by subscriber\n",
    "! bq query --use_legacy_sql=false --format=csv 'SELECT AVG(duration_Sec) AS avg_subscriber_ride_time, MIN(duration_sec) AS min_subscriber_ride_time, MAX(duration_sec) AS max_subscriber_ride_time FROM `bigquery-public-data.san_francisco.bikeshare_trips` WHERE subscriber_type=\"Subscriber\"' > subscriber_duration.csv;\n",
    "subscriber_duration = pd.read_csv('subscriber_duration.csv')\n",
    "subscriber_duration\n"
   ]
  },
  {
   "cell_type": "code",
   "execution_count": 11,
   "metadata": {},
   "outputs": [
    {
     "name": "stdout",
     "output_type": "stream",
     "text": [
      "Waiting on bqjob_r3dc44285027c186f_000001664f24caca_1 ... (0s) Current status: DONE   "
     ]
    },
    {
     "data": {
      "text/html": [
       "<div>\n",
       "<style scoped>\n",
       "    .dataframe tbody tr th:only-of-type {\n",
       "        vertical-align: middle;\n",
       "    }\n",
       "\n",
       "    .dataframe tbody tr th {\n",
       "        vertical-align: top;\n",
       "    }\n",
       "\n",
       "    .dataframe thead th {\n",
       "        text-align: right;\n",
       "    }\n",
       "</style>\n",
       "<table border=\"1\" class=\"dataframe\">\n",
       "  <thead>\n",
       "    <tr style=\"text-align: right;\">\n",
       "      <th></th>\n",
       "      <th>subscriber_trips</th>\n",
       "    </tr>\n",
       "  </thead>\n",
       "  <tbody>\n",
       "    <tr>\n",
       "      <th>0</th>\n",
       "      <td>846839</td>\n",
       "    </tr>\n",
       "  </tbody>\n",
       "</table>\n",
       "</div>"
      ],
      "text/plain": [
       "   subscriber_trips\n",
       "0            846839"
      ]
     },
     "execution_count": 11,
     "metadata": {},
     "output_type": "execute_result"
    }
   ],
   "source": [
    "# find number of trips ridden by subscribers\n",
    "! bq query --use_legacy_sql=false --format=csv 'SELECT count(trip_id) AS subscriber_trips FROM `bigquery-public-data.san_francisco.bikeshare_trips` WHERE subscriber_type=\"Subscriber\"' > subscriber_trips.csv;\n",
    "subscriber_trips = pd.read_csv('subscriber_trips.csv')\n",
    "subscriber_trips"
   ]
  },
  {
   "cell_type": "code",
   "execution_count": 14,
   "metadata": {},
   "outputs": [
    {
     "name": "stdout",
     "output_type": "stream",
     "text": [
      "Waiting on bqjob_r5daae48b0a302041_000001664f2cf9a8_1 ... (0s) Current status: DONE   "
     ]
    },
    {
     "data": {
      "text/html": [
       "<div>\n",
       "<style scoped>\n",
       "    .dataframe tbody tr th:only-of-type {\n",
       "        vertical-align: middle;\n",
       "    }\n",
       "\n",
       "    .dataframe tbody tr th {\n",
       "        vertical-align: top;\n",
       "    }\n",
       "\n",
       "    .dataframe thead th {\n",
       "        text-align: right;\n",
       "    }\n",
       "</style>\n",
       "<table border=\"1\" class=\"dataframe\">\n",
       "  <thead>\n",
       "    <tr style=\"text-align: right;\">\n",
       "      <th></th>\n",
       "      <th>avg_customer_ride_time</th>\n",
       "      <th>min_customer_ride_time</th>\n",
       "      <th>max_customer_ride_time</th>\n",
       "    </tr>\n",
       "  </thead>\n",
       "  <tbody>\n",
       "    <tr>\n",
       "      <th>0</th>\n",
       "      <td>3718.78516</td>\n",
       "      <td>60</td>\n",
       "      <td>17270400</td>\n",
       "    </tr>\n",
       "  </tbody>\n",
       "</table>\n",
       "</div>"
      ],
      "text/plain": [
       "   avg_customer_ride_time  min_customer_ride_time  max_customer_ride_time\n",
       "0              3718.78516                      60                17270400"
      ]
     },
     "execution_count": 14,
     "metadata": {},
     "output_type": "execute_result"
    }
   ],
   "source": [
    "# find average duration of ride by customer\n",
    "! bq query --use_legacy_sql=false --format=csv 'SELECT AVG(duration_Sec) AS avg_customer_ride_time, MIN(duration_sec) AS min_customer_ride_time, MAX(duration_sec) AS max_customer_ride_time FROM `bigquery-public-data.san_francisco.bikeshare_trips` WHERE subscriber_type=\"Customer\"' > customer_duration.csv;\n",
    "customer_duration = pd.read_csv('customer_duration.csv')\n",
    "customer_duration"
   ]
  },
  {
   "cell_type": "code",
   "execution_count": 8,
   "metadata": {},
   "outputs": [
    {
     "name": "stdout",
     "output_type": "stream",
     "text": [
      "\r",
      "Waiting on bqjob_r70fcfbd5cc16ab53_0000016650f74ad1_1 ... (0s) Current status: DONE   "
     ]
    },
    {
     "data": {
      "text/html": [
       "<div>\n",
       "<style scoped>\n",
       "    .dataframe tbody tr th:only-of-type {\n",
       "        vertical-align: middle;\n",
       "    }\n",
       "\n",
       "    .dataframe tbody tr th {\n",
       "        vertical-align: top;\n",
       "    }\n",
       "\n",
       "    .dataframe thead th {\n",
       "        text-align: right;\n",
       "    }\n",
       "</style>\n",
       "<table border=\"1\" class=\"dataframe\">\n",
       "  <thead>\n",
       "    <tr style=\"text-align: right;\">\n",
       "      <th></th>\n",
       "      <th>customer_trips</th>\n",
       "    </tr>\n",
       "  </thead>\n",
       "  <tbody>\n",
       "    <tr>\n",
       "      <th>0</th>\n",
       "      <td>136809</td>\n",
       "    </tr>\n",
       "  </tbody>\n",
       "</table>\n",
       "</div>"
      ],
      "text/plain": [
       "   customer_trips\n",
       "0          136809"
      ]
     },
     "execution_count": 8,
     "metadata": {},
     "output_type": "execute_result"
    }
   ],
   "source": [
    "# find number of trips ridden by customers\n",
    "! bq query --use_legacy_sql=false --format=csv 'SELECT count(trip_id) AS customer_trips FROM `bigquery-public-data.san_francisco.bikeshare_trips` WHERE subscriber_type=\"Customer\"' > customer_trips.csv;\n",
    "customer_trips = pd.read_csv('customer_trips.csv')\n",
    "customer_trips"
   ]
  },
  {
   "cell_type": "markdown",
   "metadata": {},
   "source": [
    "### Intermediate Conclusion\n",
    "It is clear that subscribers tend to spend less time on their bikes (~10 minutes on average) as they are most likely using the bike merely as a means of moving from one place to another\n",
    "\n",
    "By contrast, customers spend a great deal of time on their bikes (~60 minutes on average) as they are most\n",
    "likely using them for enjoyment and exploration\n",
    "\n",
    "Therefore, we should charge the customers who spend the most time on their bikes based on the duration of their trip ,and subscribers based on the number of trips they take."
   ]
  },
  {
   "cell_type": "code",
   "execution_count": 9,
   "metadata": {},
   "outputs": [
    {
     "name": "stdout",
     "output_type": "stream",
     "text": [
      "\r",
      "Waiting on bqjob_r9da441a2a23e2_0000016650f7da52_1 ... (0s) Current status: DONE   "
     ]
    },
    {
     "data": {
      "text/html": [
       "<div>\n",
       "<style scoped>\n",
       "    .dataframe tbody tr th:only-of-type {\n",
       "        vertical-align: middle;\n",
       "    }\n",
       "\n",
       "    .dataframe tbody tr th {\n",
       "        vertical-align: top;\n",
       "    }\n",
       "\n",
       "    .dataframe thead th {\n",
       "        text-align: right;\n",
       "    }\n",
       "</style>\n",
       "<table border=\"1\" class=\"dataframe\">\n",
       "  <thead>\n",
       "    <tr style=\"text-align: right;\">\n",
       "      <th></th>\n",
       "      <th>one_hour</th>\n",
       "    </tr>\n",
       "  </thead>\n",
       "  <tbody>\n",
       "    <tr>\n",
       "      <th>0</th>\n",
       "      <td>25826</td>\n",
       "    </tr>\n",
       "  </tbody>\n",
       "</table>\n",
       "</div>"
      ],
      "text/plain": [
       "   one_hour\n",
       "0     25826"
      ]
     },
     "execution_count": 9,
     "metadata": {},
     "output_type": "execute_result"
    }
   ],
   "source": [
    "# find number customer trips greater than one hour\n",
    "! bq query --use_legacy_sql=false --format=csv 'SELECT COUNT(duration_sec) AS one_hour FROM `bigquery-public-data.san_francisco.bikeshare_trips` WHERE duration_sec >= 3600 AND subscriber_type=\"Customer\"' > one_hour.csv;\n",
    "one_hour = pd.read_csv(\"one_hour.csv\")\n",
    "one_hour"
   ]
  },
  {
   "cell_type": "markdown",
   "metadata": {},
   "source": [
    "### Customer Revenue Pricing Conclusion\n",
    "Looking at the data, it is clear that the vast majority of trips are under one hour (~80%) and that the average is highly skewed by a smaller number of trips that take much longer.  Our revenue strategy will be to charge extra for these trips.  Each customer trip of one hour or less will be charged a flat fee of 5 dollars, trips greater than 1 hour will be charged at a rate of 4 dollars per hour to ensure that you not only achieve more revenue for two hours than one, but customers are charged a lower rate to keep them incentivized to ride for longer"
   ]
  },
  {
   "cell_type": "code",
   "execution_count": 65,
   "metadata": {},
   "outputs": [
    {
     "name": "stdout",
     "output_type": "stream",
     "text": [
      "\r",
      "Waiting on bqjob_r66f07207c818f182_00000166501ec501_1 ... (0s) Current status: DONE   "
     ]
    },
    {
     "data": {
      "text/html": [
       "<div>\n",
       "<style scoped>\n",
       "    .dataframe tbody tr th:only-of-type {\n",
       "        vertical-align: middle;\n",
       "    }\n",
       "\n",
       "    .dataframe tbody tr th {\n",
       "        vertical-align: top;\n",
       "    }\n",
       "\n",
       "    .dataframe thead th {\n",
       "        text-align: right;\n",
       "    }\n",
       "</style>\n",
       "<table border=\"1\" class=\"dataframe\">\n",
       "  <thead>\n",
       "    <tr style=\"text-align: right;\">\n",
       "      <th></th>\n",
       "      <th>customer_control_revenue</th>\n",
       "    </tr>\n",
       "  </thead>\n",
       "  <tbody>\n",
       "    <tr>\n",
       "      <th>0</th>\n",
       "      <td>684045</td>\n",
       "    </tr>\n",
       "  </tbody>\n",
       "</table>\n",
       "</div>"
      ],
      "text/plain": [
       "   customer_control_revenue\n",
       "0                    684045"
      ]
     },
     "execution_count": 65,
     "metadata": {},
     "output_type": "execute_result"
    }
   ],
   "source": [
    "# establishing control revenue for just customer trips\n",
    "! bq query --use_legacy_sql=false --format=csv 'SELECT (COUNT(trip_id)*5) AS customer_control_revenue FROM `bigquery-public-data.san_francisco.bikeshare_trips` WHERE subscriber_type=\"Customer\"' > customer_control_revenue.csv;\n",
    "customer_control_revenue = pd.read_csv(\"customer_control_revenue.csv\")\n",
    "customer_control_revenue"
   ]
  },
  {
   "cell_type": "code",
   "execution_count": 11,
   "metadata": {},
   "outputs": [
    {
     "name": "stdout",
     "output_type": "stream",
     "text": [
      "\r",
      "Waiting on bqjob_r1cfa026e7add8b67_0000016650fa5155_1 ... (0s) Current status: DONE   "
     ]
    },
    {
     "data": {
      "text/html": [
       "<div>\n",
       "<style scoped>\n",
       "    .dataframe tbody tr th:only-of-type {\n",
       "        vertical-align: middle;\n",
       "    }\n",
       "\n",
       "    .dataframe tbody tr th {\n",
       "        vertical-align: top;\n",
       "    }\n",
       "\n",
       "    .dataframe thead th {\n",
       "        text-align: right;\n",
       "    }\n",
       "</style>\n",
       "<table border=\"1\" class=\"dataframe\">\n",
       "  <thead>\n",
       "    <tr style=\"text-align: right;\">\n",
       "      <th></th>\n",
       "      <th>customer_revenue_flat_fee</th>\n",
       "    </tr>\n",
       "  </thead>\n",
       "  <tbody>\n",
       "    <tr>\n",
       "      <th>0</th>\n",
       "      <td>554935</td>\n",
       "    </tr>\n",
       "  </tbody>\n",
       "</table>\n",
       "</div>"
      ],
      "text/plain": [
       "   customer_revenue_flat_fee\n",
       "0                     554935"
      ]
     },
     "execution_count": 11,
     "metadata": {},
     "output_type": "execute_result"
    }
   ],
   "source": [
    "# modified revenue for customer trips less than or equal to one hour\n",
    "! bq query --use_legacy_sql=false --format=csv 'SELECT (COUNT(duration_sec)*5) AS customer_revenue_flat_fee FROM `bigquery-public-data.san_francisco.bikeshare_trips` WHERE duration_sec <= 3600 AND subscriber_type=\"Customer\"' > customer_revenue_flat_fee.csv;\n",
    "customer_revenue_flat_fee = pd.read_csv(\"customer_revenue_flat_fee.csv\")\n",
    "customer_revenue_flat_fee"
   ]
  },
  {
   "cell_type": "code",
   "execution_count": 10,
   "metadata": {},
   "outputs": [
    {
     "name": "stdout",
     "output_type": "stream",
     "text": [
      "\r",
      "Waiting on bqjob_r3ecc213598b2216c_0000016650fa1813_1 ... (0s) Current status: DONE   "
     ]
    },
    {
     "data": {
      "text/html": [
       "<div>\n",
       "<style scoped>\n",
       "    .dataframe tbody tr th:only-of-type {\n",
       "        vertical-align: middle;\n",
       "    }\n",
       "\n",
       "    .dataframe tbody tr th {\n",
       "        vertical-align: top;\n",
       "    }\n",
       "\n",
       "    .dataframe thead th {\n",
       "        text-align: right;\n",
       "    }\n",
       "</style>\n",
       "<table border=\"1\" class=\"dataframe\">\n",
       "  <thead>\n",
       "    <tr style=\"text-align: right;\">\n",
       "      <th></th>\n",
       "      <th>customer_revenue_per_hour</th>\n",
       "    </tr>\n",
       "  </thead>\n",
       "  <tbody>\n",
       "    <tr>\n",
       "      <th>0</th>\n",
       "      <td>428087.542222</td>\n",
       "    </tr>\n",
       "  </tbody>\n",
       "</table>\n",
       "</div>"
      ],
      "text/plain": [
       "   customer_revenue_per_hour\n",
       "0              428087.542222"
      ]
     },
     "execution_count": 10,
     "metadata": {},
     "output_type": "execute_result"
    }
   ],
   "source": [
    "# modified revenue for customer trips greater than one hour\n",
    "! bq query --use_legacy_sql=false --format=csv 'SELECT SUM((duration_sec/3600)*4) AS customer_revenue_per_hour FROM `bigquery-public-data.san_francisco.bikeshare_trips` WHERE duration_sec > 3600 AND subscriber_type=\"Customer\"' > customer_revenue_per_hour.csv;\n",
    "customer_revenue_per_hour = pd.read_csv(\"customer_revenue_per_hour.csv\")\n",
    "customer_revenue_per_hour"
   ]
  },
  {
   "cell_type": "code",
   "execution_count": 71,
   "metadata": {},
   "outputs": [
    {
     "data": {
      "image/png": "[encoded data removed]",
      "text/plain": [
       "<Figure size 432x288 with 1 Axes>"
      ]
     },
     "metadata": {},
     "output_type": "display_data"
    }
   ],
   "source": [
    "# comparing control customer revenue versus modified customer revenue\n",
    "customer_revenue = sns.barplot(x=[\"control rev\", \"modified rev\"], y=[684045, 983022])"
   ]
  },
  {
   "cell_type": "markdown",
   "metadata": {},
   "source": [
    "### Subscriber Strategy\n",
    "With subscribers, our approach to maximizing revenue is to charge as much per trip as possible.  If a subscriber were to pay the 5 dollar flat fee each time for a commute to and from work each day, that would equate to a monthly fee of 200 dollars, and a yearly fee of 2400 dollars.  We will offer a package that guarantees unlimited trips per month at a 10% premium discount to the cost of the flat monthly fee of 200 (i.e. 220)"
   ]
  },
  {
   "cell_type": "code",
   "execution_count": 2,
   "metadata": {},
   "outputs": [
    {
     "name": "stdout",
     "output_type": "stream",
     "text": [
      "Waiting on bqjob_r46f07bebb6d60439_0000016650db5da8_1 ... (0s) Current status: DONE   "
     ]
    },
    {
     "data": {
      "text/html": [
       "<div>\n",
       "<style scoped>\n",
       "    .dataframe tbody tr th:only-of-type {\n",
       "        vertical-align: middle;\n",
       "    }\n",
       "\n",
       "    .dataframe tbody tr th {\n",
       "        vertical-align: top;\n",
       "    }\n",
       "\n",
       "    .dataframe thead th {\n",
       "        text-align: right;\n",
       "    }\n",
       "</style>\n",
       "<table border=\"1\" class=\"dataframe\">\n",
       "  <thead>\n",
       "    <tr style=\"text-align: right;\">\n",
       "      <th></th>\n",
       "      <th>subscriber_control_revenue</th>\n",
       "    </tr>\n",
       "  </thead>\n",
       "  <tbody>\n",
       "    <tr>\n",
       "      <th>0</th>\n",
       "      <td>4234195</td>\n",
       "    </tr>\n",
       "  </tbody>\n",
       "</table>\n",
       "</div>"
      ],
      "text/plain": [
       "   subscriber_control_revenue\n",
       "0                     4234195"
      ]
     },
     "execution_count": 2,
     "metadata": {},
     "output_type": "execute_result"
    }
   ],
   "source": [
    "# establishing control revenue for just customer trips\n",
    "! bq query --use_legacy_sql=false --format=csv 'SELECT (COUNT(trip_id)*5) AS subscriber_control_revenue FROM `bigquery-public-data.san_francisco.bikeshare_trips` WHERE subscriber_type=\"Subscriber\"' > subscriber_control_revenue.csv;\n",
    "subscriber_control_revenue = pd.read_csv(\"subscriber_control_revenue.csv\")\n",
    "subscriber_control_revenue"
   ]
  },
  {
   "cell_type": "code",
   "execution_count": 12,
   "metadata": {},
   "outputs": [
    {
     "name": "stdout",
     "output_type": "stream",
     "text": [
      "Waiting on bqjob_r556bcdf8fd960e65_0000016650fb1d6d_1 ... (0s) Current status: DONE   "
     ]
    },
    {
     "data": {
      "text/html": [
       "<div>\n",
       "<style scoped>\n",
       "    .dataframe tbody tr th:only-of-type {\n",
       "        vertical-align: middle;\n",
       "    }\n",
       "\n",
       "    .dataframe tbody tr th {\n",
       "        vertical-align: top;\n",
       "    }\n",
       "\n",
       "    .dataframe thead th {\n",
       "        text-align: right;\n",
       "    }\n",
       "</style>\n",
       "<table border=\"1\" class=\"dataframe\">\n",
       "  <thead>\n",
       "    <tr style=\"text-align: right;\">\n",
       "      <th></th>\n",
       "      <th>subscriber_modified_revenue</th>\n",
       "    </tr>\n",
       "  </thead>\n",
       "  <tbody>\n",
       "    <tr>\n",
       "      <th>0</th>\n",
       "      <td>4657614.5</td>\n",
       "    </tr>\n",
       "  </tbody>\n",
       "</table>\n",
       "</div>"
      ],
      "text/plain": [
       "   subscriber_modified_revenue\n",
       "0                    4657614.5"
      ]
     },
     "execution_count": 12,
     "metadata": {},
     "output_type": "execute_result"
    }
   ],
   "source": [
    "# establishing control revenue for just customer trips\n",
    "! bq query --use_legacy_sql=false --format=csv 'SELECT (COUNT(trip_id)*5.5) AS subscriber_modified_revenue FROM `bigquery-public-data.san_francisco.bikeshare_trips` WHERE subscriber_type=\"Subscriber\"' > subscriber_modified_revenue.csv;\n",
    "subscriber_modified_revenue = pd.read_csv(\"subscriber_modified_revenue.csv\")\n",
    "subscriber_modified_revenue"
   ]
  },
  {
   "cell_type": "code",
   "execution_count": 4,
   "metadata": {},
   "outputs": [
    {
     "data": {
      "image/png": "[encoded data removed]",
      "text/plain": [
       "<Figure size 432x288 with 1 Axes>"
      ]
     },
     "metadata": {},
     "output_type": "display_data"
    }
   ],
   "source": [
    "# comparing control subscriber revenue versus modified subscriber revenue\n",
    "subscriber_revenue = sns.barplot(x=[\"control rev\", \"modified rev\"], y=[4234195, 4657615])"
   ]
  },
  {
   "cell_type": "code",
   "execution_count": 5,
   "metadata": {},
   "outputs": [
    {
     "data": {
      "image/png": "[encoded data removed]",
      "text/plain": [
       "<Figure size 432x288 with 1 Axes>"
      ]
     },
     "metadata": {},
     "output_type": "display_data"
    }
   ],
   "source": [
    "# comparing total control revenue versus total modified revenue\n",
    "total_revenue = sns.barplot(x=[\"control rev\", \"modified rev\"], y=[4918240, 5640637])"
   ]
  }
 ],
 "metadata": {
  "kernelspec": {
   "display_name": "Python 3",
   "language": "python",
   "name": "python3"
  },
  "language_info": {
   "codemirror_mode": {
    "name": "ipython",
    "version": 3
   },
   "file_extension": ".py",
   "mimetype": "text/x-python",
   "name": "python",
   "nbconvert_exporter": "python",
   "pygments_lexer": "ipython3",
   "version": "3.6.4"
  }
 },
 "nbformat": 4,
 "nbformat_minor": 2
}
